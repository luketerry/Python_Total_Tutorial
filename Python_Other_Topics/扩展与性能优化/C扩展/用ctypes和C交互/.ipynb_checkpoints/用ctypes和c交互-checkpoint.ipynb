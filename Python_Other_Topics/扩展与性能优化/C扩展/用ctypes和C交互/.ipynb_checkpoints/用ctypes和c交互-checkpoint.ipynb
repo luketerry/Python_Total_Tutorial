{
 "cells": [
  {
   "cell_type": "markdown",
   "metadata": {},
   "source": [
    "# 用ctypes和c交互"
   ]
  },
  {
   "cell_type": "markdown",
   "metadata": {},
   "source": [
    "[ctypes](https://docs.python.org/2/library/ctypes.html)是原版python和pypy都支持的一种与c交互的方式,他的原理其实是利用python调用c/c++的动态链接库(就是.so或者.dll那个文件),也就是说c还是那个c,python还是那个python,不用再学其他的了,这也是最推荐的一种与c直接交互的方式."
   ]
  },
  {
   "cell_type": "markdown",
   "metadata": {},
   "source": [
    "> 例子:一个二维向量运算的定义"
   ]
  },
  {
   "cell_type": "markdown",
   "metadata": {},
   "source": [
    "### c代码:\n",
    "\n",
    "v.c\n",
    "\n",
    "```c\n",
    "#include <stdio.h>\n",
    "#include <stdlib.h>\n",
    "#include <string.h>\n",
    "\n",
    "//向量结构体\n",
    "typedef struct{\n",
    "    float x,y;\n",
    "    char repr[50];\n",
    "}Vector;\n",
    "\n",
    "Vector add(Vector a,Vector b){\n",
    "    Vector c;\n",
    "    c.x = a.x+b.x;\n",
    "    c.y = a.y+b.y;\n",
    "    char tempx[10];\n",
    "    char tempy[10];\n",
    "    //char x = itoa(c.x,&tempx,10);\n",
    "    //char y = itoa(c.y,&tempy,10);\n",
    "    int len = sprintf(c.repr, \"<x:%f,y:%f>\\n\",c.x,c.y);\n",
    "    //c.repr = \"<x:\" + x + \",\" + \"y:\" + y + \">\";\n",
    "    return c;\n",
    "}\n",
    "\n",
    "int main(void){\n",
    "    Vector a,b,c;\n",
    "    a.x = 10.0;\n",
    "    a.y = 20.0;\n",
    "    strcpy(a.repr,\"<x:10.0,y:20.0>\");\n",
    "\n",
    "    b.x = 1.0;\n",
    "    b.y = 2.0;\n",
    "    strcpy(b.repr,\"<x:10.0,y:20.0>\");\n",
    "    c = add(a,b);\n",
    "    printf(\"x %f y %f\\n\",c.x,c.y);\n",
    "    printf(\"%s\\n\",c.repr);\n",
    "    return 0;\n",
    "}\n",
    "```\n",
    "\n",
    "编译运行下:\n",
    "\n",
    "```bash\n",
    "gcc v.c -o vtest\n",
    "./vtest\n",
    "```\n",
    "\n",
    "结果正常"
   ]
  },
  {
   "cell_type": "markdown",
   "metadata": {},
   "source": [
    "### 修改成动态链接库(把哪个显示结果的省了)\n",
    "\n",
    "vector.h\n",
    "\n",
    "```c\n",
    "#ifndef VECTOR_HEAD_\n",
    "#define VECTOR_HEAD_\n",
    "\n",
    "//向量结构体\n",
    "typedef struct{\n",
    "    float x,y;\n",
    "}Vector;\n",
    "\n",
    "//向量加法\n",
    "Vector add(Vector a,Vector b);\n",
    "\n",
    "#endif\n",
    "```\n",
    "\n",
    "vector.c\n",
    "\n",
    "```c\n",
    "#include <stdio.h>\n",
    "#include <stdlib.h>\n",
    "#include <string.h>\n",
    "\n",
    "#include \"vector.h\"\n",
    "\n",
    "//向量结构体\n",
    "Vector add(Vector a,Vector b){\n",
    "    Vector c;\n",
    "    c.x = a.x+b.x;\n",
    "    c.y = a.y+b.y;\n",
    "    return c;\n",
    "}\n",
    "```\n",
    "编译成动态链接库\n",
    "\n",
    "```bash\n",
    "gcc -shared -fPIC -o libvec.so vector.c\n",
    "```\n",
    "\n",
    "这样就生成一个v.so文件,我们先来用c语言试试看调用\n",
    "\n",
    "vectorTest.c\n",
    "\n",
    "```c\n",
    "#include <stdio.h>\n",
    "#include <string.h>\n",
    "\n",
    "#include \"vector.h\"\n",
    "\n",
    "int main(void){\n",
    "    Vector a,b,c;\n",
    "    a.x = 10.0;\n",
    "    a.y = 20.0;\n",
    "\n",
    "    b.x = 1.0;\n",
    "    b.y = 2.0;\n",
    "    c = add(a,b);\n",
    "    printf(\"x %f y %f\\n\",c.x,c.y);\n",
    "    return 0;\n",
    "}\n",
    "```\n",
    "\n",
    "编译:\n",
    "\n",
    "```bash\n",
    "gcc vectorTest.c -o vectorTest -L ./ -lvec\n",
    "./vectorTest\n",
    "```\n",
    "\n",
    "结果正常"
   ]
  },
  {
   "cell_type": "markdown",
   "metadata": {},
   "source": [
    "### 用ctypes调用这个动态链接库\n",
    "\n",
    "到正题了,我们用这个ctypes调用下动态库试试"
   ]
  },
  {
   "cell_type": "code",
   "execution_count": 1,
   "metadata": {
    "collapsed": false
   },
   "outputs": [],
   "source": [
    "from ctypes import CDLL,c_float,c_char_p,Structure,POINTER"
   ]
  },
  {
   "cell_type": "code",
   "execution_count": 8,
   "metadata": {
    "collapsed": true
   },
   "outputs": [],
   "source": [
    "class Vector(Structure):\n",
    "    _fields_ = [(\"x\",c_float),(\"y\",c_float)]\n",
    "    def __str__(self):\n",
    "        return \"Vector:<{this.x},{this.y}>\".format(this=self)\n",
    "    def __repr__(self):\n",
    "        return self.__str__()\n",
    "    def __add__(self,that):\n",
    "        dll = CDLL(\"libvec.so\")\n",
    "        dll.add.restype = Vector\n",
    "        return dll.add(self,that)"
   ]
  },
  {
   "cell_type": "code",
   "execution_count": 10,
   "metadata": {
    "collapsed": false
   },
   "outputs": [],
   "source": [
    "v1 = Vector(1,2)"
   ]
  },
  {
   "cell_type": "code",
   "execution_count": 11,
   "metadata": {
    "collapsed": false
   },
   "outputs": [
    {
     "data": {
      "text/plain": [
       "Vector:<1.0,2.0>"
      ]
     },
     "execution_count": 11,
     "metadata": {},
     "output_type": "execute_result"
    }
   ],
   "source": [
    "v1"
   ]
  },
  {
   "cell_type": "code",
   "execution_count": 12,
   "metadata": {
    "collapsed": false
   },
   "outputs": [],
   "source": [
    "v2 = Vector(10,20)"
   ]
  },
  {
   "cell_type": "code",
   "execution_count": 13,
   "metadata": {
    "collapsed": false
   },
   "outputs": [
    {
     "data": {
      "text/plain": [
       "Vector:<10.0,20.0>"
      ]
     },
     "execution_count": 13,
     "metadata": {},
     "output_type": "execute_result"
    }
   ],
   "source": [
    "v2"
   ]
  },
  {
   "cell_type": "code",
   "execution_count": 14,
   "metadata": {
    "collapsed": false,
    "scrolled": true
   },
   "outputs": [
    {
     "data": {
      "text/plain": [
       "Vector:<11.0,22.0>"
      ]
     },
     "execution_count": 14,
     "metadata": {},
     "output_type": "execute_result"
    }
   ],
   "source": [
    "v1+v2"
   ]
  },
  {
   "cell_type": "markdown",
   "metadata": {},
   "source": [
    "## ctypes内置数据类型映射:\n",
    "\n",
    "\n",
    "ctypes type|c type|Python type\n",
    "---|---|---\n",
    "c_char|char\t|1-character string\n",
    "c_wchar\t|wchar_t\t|1-character unicode string\n",
    "c_byte\t|char\t|int/long\n",
    "c_ubyte\t|unsigned char\t|int/long\n",
    "c_short\t|short\t|int/long\n",
    "c_ushort\t|unsigned short\t|int/long\n",
    "c_int\t|int\t|int/long\n",
    "c_uint\t|unsigned int\t|int/long\n",
    "c_long\t|long\t|int/long\n",
    "c_ulong\t|unsigned long\t|int/long\n",
    "c_longlong\t|__int64 or long long\t|int/long\n",
    "c_ulonglong\t|unsigned __int64 or unsigned long long\t|int/long\n",
    "c_float\t|float\t|float\n",
    "c_double\t|double\t|float\n",
    "c_char_p\t|char * (NUL terminated)\t|string or None\n",
    "c_wchar_p\t|wchar_t * |(NUL terminated)\t|unicode or None\n",
    "c_void_p\t|void *|int/long or None"
   ]
  },
  {
   "cell_type": "code",
   "execution_count": null,
   "metadata": {
    "collapsed": true
   },
   "outputs": [],
   "source": []
  }
 ],
 "metadata": {
  "kernelspec": {
   "display_name": "Python 2",
   "language": "python",
   "name": "python2"
  },
  "language_info": {
   "codemirror_mode": {
    "name": "ipython",
    "version": 2
   },
   "file_extension": ".py",
   "mimetype": "text/x-python",
   "name": "python",
   "nbconvert_exporter": "python",
   "pygments_lexer": "ipython2",
   "version": "2.7.12"
  }
 },
 "nbformat": 4,
 "nbformat_minor": 0
}
